{
 "cells": [
  {
   "cell_type": "code",
   "execution_count": null,
   "metadata": {},
   "outputs": [],
   "source": [
    "import pandas as pd\n",
    "import tabula"
   ]
  },
  {
   "cell_type": "code",
   "execution_count": null,
   "metadata": {},
   "outputs": [],
   "source": [
    "class Person:\n",
    "    def __init__(self, nome, mensalidade):\n",
    "        self.nome = nome\n",
    "        self.mensalidade = mensalidade\n",
    "        self.dependencia = None\n",
    "        self.data_nascimento = None\n",
    "        self.data_inclusao = None\n",
    "        self.dependentes = []\n",
    "        self.utilizacao = 0\n",
    "        self.taxa_boleto = 2.93\n",
    "        self.reaj_retro = 0\n",
    "        self.reaj_faixa = 0\n",
    "        \n",
    "    def get_valor_mensalidades(self):\n",
    "        valor_dependentes = sum([x.mensalidade for x in self.dependentes])\n",
    "        return self.mensalidade + valor_dependentes\n",
    "    \n",
    "    def get_valor_utilizacao(self):\n",
    "        valor_dependentes = sum(x.utilizacao for x in self.dependentes)\n",
    "        return self.utilizacao + valor_dependentes\n",
    "    \n",
    "    def get_valor_reaj_retroativo(self):\n",
    "        valor_dependentes = sum([x.reaj_retro for x in self.dependentes])\n",
    "        return self.reaj_retro + valor_dependentes\n",
    "    \n",
    "    def get_valor_reaj_faixa(self):\n",
    "        valor_dependentes = sum([x.reaj_faixa for x in self.dependentes])\n",
    "        return self.reaj_faixa + valor_dependentes\n",
    "    \n",
    "    def get_valor_total(self):\n",
    "        return self.get_valor_mensalidades() + self.get_valor_utilizacao() + self.taxa_boleto + self.get_valor_reaj_retroativo() + self.get_valor_reaj_faixa()    \n",
    "    \n",
    "    def __str__(self):\n",
    "        return f'{self.nome} - {self.get_valor_total()}'\n",
    "    \n",
    "    def __repr__(self):\n",
    "        return f'{self.nome} - {self.get_valor_total()}'\n",
    "    \n",
    "    def report_values(self):\n",
    "        l = []\n",
    "        l.append(f'{self.nome}: {self.mensalidade:.2f}')\n",
    "        l.append(f'Utilização: {self.utilizacao:.2f}')\n",
    "        l.append(f'Reajuste retroativo: {self.reaj_retro:.2f}')\n",
    "        l.append(f'Reajuste faixa etária: {self.reaj_faixa:.2f}')\n",
    "        for p in self.dependentes:\n",
    "            l.append(f'{p.nome}: {p.mensalidade:.2f}')\n",
    "            l.append(f'Reajuste retroativo: {p.reaj_retro:.2f}')\n",
    "            l.append(f'Reajuste faixa etária: {p.reaj_faixa:.2f}')\n",
    "        return l\n",
    "    \n",
    "    "
   ]
  },
  {
   "cell_type": "code",
   "execution_count": null,
   "metadata": {},
   "outputs": [],
   "source": [
    "p = Person('Juliano Fischer Naves',400)\n",
    "p1 = Person('Jhaneffer',300)\n",
    "p2 = Person('Juliane',200)\n",
    "p3 = Person('Olívia',100)\n",
    "l = [p1, p2, p3]\n",
    "p.dependentes.extend(l)"
   ]
  },
  {
   "cell_type": "code",
   "execution_count": null,
   "metadata": {},
   "outputs": [],
   "source": [
    "p.get_valor_total()"
   ]
  },
  {
   "cell_type": "code",
   "execution_count": null,
   "metadata": {},
   "outputs": [],
   "source": [
    "p.mensalidade"
   ]
  },
  {
   "cell_type": "code",
   "execution_count": null,
   "metadata": {},
   "outputs": [],
   "source": [
    "FILE_REPORT_CONTRATOS = \"faturamentoagosto21/Relatório de Mensalidades 67.pdf\"\n",
    "FILE_REPORT_USO = \"faturamentoagosto21/Relatório de Utilização 67.pdf\""
   ]
  },
  {
   "cell_type": "code",
   "execution_count": null,
   "metadata": {},
   "outputs": [],
   "source": [
    "df = tabula.read_pdf(FILE_REPORT_CONTRATOS, pages='all')"
   ]
  },
  {
   "cell_type": "code",
   "execution_count": null,
   "metadata": {},
   "outputs": [],
   "source": [
    "df[0].head()"
   ]
  },
  {
   "cell_type": "code",
   "execution_count": null,
   "metadata": {},
   "outputs": [],
   "source": [
    "df[13]"
   ]
  },
  {
   "cell_type": "code",
   "execution_count": null,
   "metadata": {},
   "outputs": [],
   "source": [
    "#df[13]\n",
    "df[13].drop([9,10], inplace=True)\n",
    "#df[13]\n",
    "#df[8] tá zikado\n",
    "#df[1].drop('C/Corrente',axis=1)"
   ]
  },
  {
   "cell_type": "code",
   "execution_count": null,
   "metadata": {},
   "outputs": [],
   "source": [
    "df[13]"
   ]
  },
  {
   "cell_type": "code",
   "execution_count": null,
   "metadata": {},
   "outputs": [],
   "source": [
    "def df_filter_procedure(df):\n",
    "    #df = df.drop(['Unnamed: 7', 'Unnamed: 2'], axis=1)\n",
    "    #df = df.drop(df.columns[-1],axis=1)\n",
    "    df = df.drop(['Plano', 'Total', 'C/Corrente','Lotação'], axis=1)\n",
    "    df = df.dropna()\n",
    "    #df.drop(df.index[0], inplace=True)\n",
    "    values = ['contrato', 'nome', 'dependencia', 'data_nascimento', 'data_inclusao', 'mensalidade', 'reajuste_retroativo', 'reajuste_faixa']\n",
    "    keys = ['Beneficiário', 'Nome', 'Dependência', 'Dt. Nascimento', 'Dt. Inclusão', 'Mensalidade','Reaj.\\rRetroativo','Reaj.\\rFaixa']\n",
    "    d = dict(zip(keys, values))\n",
    "    #df['Unnamed: 1'] = df['Unnamed: 1'].apply(lambda x: x.split(\" Nac\")[0])\n",
    "    # df = df.drop(['nome','plano'],axis=1)\n",
    "    df.rename(columns=d, inplace=True)\n",
    "    return df"
   ]
  },
  {
   "cell_type": "code",
   "execution_count": null,
   "metadata": {},
   "outputs": [],
   "source": [
    "pages = []\n",
    "#ignora a última porque o df[8] tá zikado\n",
    "#for page in df[:-1]:\n",
    "for page in df:\n",
    "    pages.append(page)\n",
    "pages = pd.concat(pages)"
   ]
  },
  {
   "cell_type": "code",
   "execution_count": null,
   "metadata": {},
   "outputs": [],
   "source": []
  },
  {
   "cell_type": "code",
   "execution_count": null,
   "metadata": {},
   "outputs": [],
   "source": [
    "#até aqui tudo bem... arrumar um jeito de filtrar o df[8]\n",
    "#df[8]"
   ]
  },
  {
   "cell_type": "code",
   "execution_count": null,
   "metadata": {},
   "outputs": [],
   "source": [
    "#descarta as duas primeiras linhas e a última\n",
    "'''df[8].drop([0,1,19], inplace=True)\n",
    "df[8].drop(['Unnamed: 7', 'Unnamed: 4'], axis=1, inplace=True)\n",
    "df[8]['Reaj.'] = df[8]['Reaj.'].apply(lambda x: x.split(\" \")[0])\n",
    "df[8]['Unnamed: 2'] = df[8]['Unnamed: 2'].apply(lambda x: x.split('C/Cop ')[1])\n",
    "values = ['contrato', 'nome', 'dependencia', 'data_nascimento', 'data_inclusao', 'mensalidade', 'reajuste_retroativo']\n",
    "keys = ['Unnamed: 0','Unnamed: 1','Unnamed: 2','Unnamed: 3','Unnamed: 5','Unnamed: 6','Reaj.']\n",
    "d = dict(zip(keys, values))\n",
    "df[8].rename(columns=d, inplace=True)\n",
    "df[8]'''\n",
    "#values = ['contrato', 'nome', 'dependencia', 'data_nascimento', 'data_inclusao', 'mensalidade', 'reajuste_retroativo']\n",
    "#keys = ['Unnamed: 0','Unnamed: 1','Unnamed: 2','Unnamed: 3','Unnamed: 5','Unnamed: 6','Reaj.']\n",
    "#d = dict(zip(keys, values))\n",
    "#df[8].rename(columns=d, inplace=True)\n",
    "#df[8].head()"
   ]
  },
  {
   "cell_type": "code",
   "execution_count": null,
   "metadata": {},
   "outputs": [],
   "source": [
    "pages = df_filter_procedure(pages)\n",
    "#pages = pd.concat([pages, df[8]])\n",
    "pages.replace(to_replace=[r\"\\\\t|\\\\n|\\\\r\", \"\\t|\\n|\\r\"], value=[\" \",\" \"], regex=True, inplace=True)\n",
    "pages.head()"
   ]
  },
  {
   "cell_type": "code",
   "execution_count": null,
   "metadata": {},
   "outputs": [],
   "source": [
    "def convert_coin_(x):\n",
    "    x = x.replace('.','')\n",
    "    x = x.replace(',','.')\n",
    "    return x\n",
    "pages['mensalidade'] = pages['mensalidade'].apply(lambda x: convert_coin_(x))\n",
    "#AttributeError: 'float' object has no attribute 'replace'"
   ]
  },
  {
   "cell_type": "code",
   "execution_count": null,
   "metadata": {},
   "outputs": [],
   "source": [
    "pages['reajuste_retroativo'] = pages['reajuste_retroativo'].apply(lambda x: convert_coin_(x))\n",
    "pages['reajuste_faixa'] = pages['reajuste_faixa'].apply(lambda x: convert_coin_(x))\n",
    "#pages\n",
    "#AttributeError: 'float' object has no attribute 'replace'"
   ]
  },
  {
   "cell_type": "code",
   "execution_count": null,
   "metadata": {},
   "outputs": [],
   "source": [
    "pages"
   ]
  },
  {
   "cell_type": "code",
   "execution_count": null,
   "metadata": {},
   "outputs": [],
   "source": [
    "titulares = []\n",
    "titular_atual = None\n",
    "pessoas_set = set()\n",
    "\n",
    "for index, row in pages.iterrows():\n",
    "    mensalidade = float(row[5])\n",
    "    p = Person(row[1], mensalidade) \n",
    "    p.dependencia = row[2]\n",
    "    p.data_nascimento = row[3]\n",
    "    p.data_inclusao = row[4]\n",
    "    p.reaj_retro = float(row[6])\n",
    "    p.reaj_faixa = float(row[7])\n",
    "    if p.dependencia == 'Titulares':\n",
    "        titulares.append(p)\n",
    "        titular_atual = p\n",
    "    else:\n",
    "        titular_atual.dependentes.append(p)\n",
    "    pessoas_set.add(p)"
   ]
  },
  {
   "cell_type": "code",
   "execution_count": null,
   "metadata": {},
   "outputs": [],
   "source": [
    "titulares"
   ]
  },
  {
   "cell_type": "code",
   "execution_count": null,
   "metadata": {},
   "outputs": [],
   "source": [
    "#Extrai somente a página 1\n",
    "area  = [93.426,99.023,818.448,343.567]\n",
    "#ut = tabula.read_pdf(FILE_REPORT_USO, pages='all', lattice=True, multiple_tables=False)\n",
    "ut = tabula.read_pdf(FILE_REPORT_USO, pages=1, stream=True, multiple_tables=True, area=area, pandas_options={'header':None})\n",
    "ut[0]"
   ]
  },
  {
   "cell_type": "code",
   "execution_count": null,
   "metadata": {},
   "outputs": [],
   "source": [
    "# segunda página\n",
    "temp = pd.DataFrame([['Leticia Alves Fonseca', 'R$ 81,92'],\n",
    "              ['Elza Moreira Alves', 'R$ 34,31'],\n",
    "              ['Jefferson Castro Casseano Furtado', 'R$ 30,87'], \n",
    "              ['Aurea Dayse Cosmo Da Silva', 'R$ 103,81']])\n",
    "ut[0] = pd.concat([ut[0], temp], ignore_index=True)\n",
    "ut[0]"
   ]
  },
  {
   "cell_type": "code",
   "execution_count": null,
   "metadata": {},
   "outputs": [],
   "source": [
    "#esta nao precisou em maio\n",
    "#area_2 = [75.311,100.745,120.087,338.401]\n",
    "#Extrai somente a página 2\n",
    "#ut = tabula.read_pdf(FILE_REPORT_USO, pages='all', lattice=True, multiple_tables=False)\n",
    "#ut2 = tabula.read_pdf(FILE_REPORT_USO, pages=2, stream=True, multiple_tables=False, area=area_2, pandas_options={'header':None})\n",
    "#ut2[0]"
   ]
  },
  {
   "cell_type": "code",
   "execution_count": null,
   "metadata": {},
   "outputs": [],
   "source": [
    "'''def replace_name(wrong_name, list_of_correct_names):\n",
    "    for name in list_of_correct_names:\n",
    "        if wrong_name in name:\n",
    "            return name\n",
    "        \n",
    "nomes_corretos = [t.nome for t in titulares]\n",
    "nomes_corretos.append(\"Ney Grequi Franco Figueiredo\")\n",
    "nomes_corretos.append(\"Alexandre Vieira Saboia\")\n",
    "nomes_corretos.append(\"Claudemir Miranda Barboza\")'''"
   ]
  },
  {
   "cell_type": "code",
   "execution_count": null,
   "metadata": {},
   "outputs": [],
   "source": [
    "ut0 = ut[0]\n",
    "dict_ut = {}\n",
    "for index, row in ut0.iterrows():\n",
    "    #mensalidade = float(row[2][3:].replace(',','.'))\n",
    "    #mensalidade = row[2]\n",
    "    mensalidade = row[1]\n",
    "    if mensalidade != 'Valor':\n",
    "        mensalidade = float(row[1].replace(',','.').replace(\"R$ \",''))\n",
    "        nome=row[0]\n",
    "        dict_ut[nome] = mensalidade\n",
    "        print(nome + \" \" + str(mensalidade))\n",
    "    else:\n",
    "        continue\n",
    "sum(dict_ut.values())"
   ]
  },
  {
   "cell_type": "code",
   "execution_count": null,
   "metadata": {},
   "outputs": [],
   "source": [
    "#não utilizada em maio\n",
    "'''\n",
    "ut2 = ut2[0]\n",
    "dict_ut2 = {}\n",
    "for index, row in ut2.iterrows():\n",
    "    mensalidade = float(row[1][3:].replace(',','.'))\n",
    "    #nome = replace_name(row[0], nomes_corretos)\n",
    "    nome=row[0]\n",
    "    dict_ut2[nome] = mensalidade\n",
    "    print(nome)\n",
    "sum(dict_ut2.values())'''"
   ]
  },
  {
   "cell_type": "code",
   "execution_count": null,
   "metadata": {},
   "outputs": [],
   "source": [
    "#dict_ut2"
   ]
  },
  {
   "cell_type": "code",
   "execution_count": null,
   "metadata": {},
   "outputs": [],
   "source": [
    "#dict_ut = {**dict_ut, **dict_ut2} #merge two dicts\n",
    "checked = set()\n",
    "#for titular in titulares:\n",
    "#    if titular.nome in dict_ut:\n",
    "#        titular.utilizacao = dict_ut[titular.nome]\n",
    "#        checked.add(titular.nome)\n",
    "for pessoa in pessoas_set:\n",
    "    if pessoa.nome in dict_ut:\n",
    "        pessoa.utilizacao = dict_ut[pessoa.nome]\n",
    "        checked.add(pessoa.nome)"
   ]
  },
  {
   "cell_type": "code",
   "execution_count": null,
   "metadata": {},
   "outputs": [],
   "source": [
    "# Encontra aqueles que não possuem mensalidade (desligados do plano), mas que \n",
    "# precisam pagar alguma utilização pendente\n",
    "unchecked = set([t for t in dict_ut]) - checked\n",
    "unchecked"
   ]
  },
  {
   "cell_type": "code",
   "execution_count": null,
   "metadata": {},
   "outputs": [],
   "source": []
  },
  {
   "cell_type": "code",
   "execution_count": null,
   "metadata": {},
   "outputs": [],
   "source": [
    "def computa_total_mensalidades(titulares):\n",
    "    #return sum([t.get_valor_total() for t in titulares])\n",
    "    return sum([t.get_valor_mensalidades() for t in titulares])"
   ]
  },
  {
   "cell_type": "code",
   "execution_count": null,
   "metadata": {},
   "outputs": [],
   "source": [
    "def computa_total_utilizacao(titulares):\n",
    "    return sum([t.utilizacao for t in titulares])"
   ]
  },
  {
   "cell_type": "code",
   "execution_count": null,
   "metadata": {},
   "outputs": [],
   "source": [
    "def computa_reaj_retroativo(titulares):\n",
    "    return sum([t.get_valor_reaj_retroativo() for t in titulares])"
   ]
  },
  {
   "cell_type": "code",
   "execution_count": null,
   "metadata": {},
   "outputs": [],
   "source": [
    "def computa_reaj_faixa(titulares):\n",
    "    return sum([t.get_valor_reaj_faixa() for t in titulares])"
   ]
  },
  {
   "cell_type": "code",
   "execution_count": null,
   "metadata": {},
   "outputs": [],
   "source": [
    "computa_total_mensalidades(titulares)\n",
    "#ok -> verificado"
   ]
  },
  {
   "cell_type": "code",
   "execution_count": null,
   "metadata": {},
   "outputs": [],
   "source": [
    "computa_reaj_retroativo(titulares)"
   ]
  },
  {
   "cell_type": "code",
   "execution_count": null,
   "metadata": {},
   "outputs": [],
   "source": [
    "computa_reaj_faixa(titulares)"
   ]
  },
  {
   "cell_type": "code",
   "execution_count": null,
   "metadata": {},
   "outputs": [],
   "source": [
    "computa_total_utilizacao(titulares)\n",
    "#erro: deveria ser 8.703,71"
   ]
  },
  {
   "cell_type": "code",
   "execution_count": null,
   "metadata": {},
   "outputs": [],
   "source": [
    "def caso_especial_michel_osmar():\n",
    "    for t in titulares:\n",
    "        if t.nome == 'Michel Osmar Costa Paiva':\n",
    "            mulher_do_michel = t.dependentes.pop(0)\n",
    "            titulares.append(mulher_do_michel)\n",
    "caso_especial_michel_osmar()"
   ]
  },
  {
   "cell_type": "code",
   "execution_count": null,
   "metadata": {},
   "outputs": [],
   "source": [
    "computa_total_utilizacao(titulares)\n",
    "#computa_total_mensalidades(titulares)"
   ]
  },
  {
   "cell_type": "code",
   "execution_count": null,
   "metadata": {},
   "outputs": [],
   "source": [
    "from datetime import date\n",
    "def generate_code(i):\n",
    "    i = i + 1\n",
    "    today = date.today()\n",
    "    s = today.strftime(\"%d%m%Y\")\n",
    "    s = s + str(i)\n",
    "    return s"
   ]
  },
  {
   "cell_type": "code",
   "execution_count": null,
   "metadata": {},
   "outputs": [],
   "source": [
    "lista_final = []\n",
    "for i,t in enumerate(titulares):\n",
    "    v = f'{t.get_valor_total():.2f}'.replace('.',',')\n",
    "    c = generate_code(i)\n",
    "    l = [t.nome.upper(), v , c]\n",
    "    lista_final.append(l)"
   ]
  },
  {
   "cell_type": "code",
   "execution_count": null,
   "metadata": {},
   "outputs": [],
   "source": [
    "lista_final"
   ]
  },
  {
   "cell_type": "code",
   "execution_count": null,
   "metadata": {},
   "outputs": [],
   "source": [
    "#lista_final.append([\"CLAUDEMIR MIRANDA BARBOZA\", '74,43', '1104202199'])\n",
    "#94 de utilização e 3 do boleto"
   ]
  },
  {
   "cell_type": "code",
   "execution_count": null,
   "metadata": {},
   "outputs": [],
   "source": [
    "#lista_final = lista_final[:-1]\n",
    "#lista_final"
   ]
  },
  {
   "cell_type": "code",
   "execution_count": null,
   "metadata": {},
   "outputs": [],
   "source": []
  },
  {
   "cell_type": "code",
   "execution_count": null,
   "metadata": {},
   "outputs": [],
   "source": [
    "import json\n",
    "with open('data-agosto-21.json', 'w') as f:\n",
    "    json.dump(lista_final, f)"
   ]
  },
  {
   "cell_type": "code",
   "execution_count": null,
   "metadata": {},
   "outputs": [],
   "source": []
  },
  {
   "cell_type": "code",
   "execution_count": null,
   "metadata": {},
   "outputs": [],
   "source": [
    "titulares[0].report_values()"
   ]
  },
  {
   "cell_type": "code",
   "execution_count": null,
   "metadata": {},
   "outputs": [],
   "source": [
    "len(titulares)"
   ]
  },
  {
   "cell_type": "code",
   "execution_count": null,
   "metadata": {},
   "outputs": [],
   "source": [
    "len(lista_final)"
   ]
  },
  {
   "cell_type": "code",
   "execution_count": null,
   "metadata": {},
   "outputs": [],
   "source": [
    "sorted(lista_final, key=lambda x: x[0])"
   ]
  },
  {
   "cell_type": "code",
   "execution_count": null,
   "metadata": {},
   "outputs": [],
   "source": [
    "nomes = [t.nome.upper().replace(' ', '-') for t in titulares]"
   ]
  },
  {
   "cell_type": "code",
   "execution_count": null,
   "metadata": {},
   "outputs": [],
   "source": [
    "#nomes"
   ]
  },
  {
   "cell_type": "code",
   "execution_count": null,
   "metadata": {},
   "outputs": [],
   "source": [
    "import os"
   ]
  },
  {
   "cell_type": "code",
   "execution_count": null,
   "metadata": {},
   "outputs": [],
   "source": [
    "#verifica se todos os boletos foram gerados\n",
    "#arquivos = os.listdir('/home/juliano/Downloads/boletos-fev-21/')\n",
    "#arquivos = [arq[:-4] for arq in arquivos if arq.endswith('.pdf')]\n",
    "#set1 = set(arquivos)\n",
    "#set2 = set(nomes)\n",
    "#set2-set1"
   ]
  },
  {
   "cell_type": "code",
   "execution_count": null,
   "metadata": {},
   "outputs": [],
   "source": [
    "for t in titulares:\n",
    "    if t.nome.startswith('Laura'):\n",
    "        print(t.report_values())"
   ]
  },
  {
   "cell_type": "code",
   "execution_count": null,
   "metadata": {},
   "outputs": [],
   "source": [
    "import pickle\n",
    "pickle.dump(titulares, open(\"titulares-agosto-21\", \"wb\" ) )"
   ]
  }
 ],
 "metadata": {
  "kernelspec": {
   "display_name": "Python 3",
   "language": "python",
   "name": "python3"
  },
  "language_info": {
   "codemirror_mode": {
    "name": "ipython",
    "version": 3
   },
   "file_extension": ".py",
   "mimetype": "text/x-python",
   "name": "python",
   "nbconvert_exporter": "python",
   "pygments_lexer": "ipython3",
   "version": "3.8.10"
  }
 },
 "nbformat": 4,
 "nbformat_minor": 4
}
